{
 "cells": [
  {
   "cell_type": "code",
   "execution_count": 1,
   "id": "86326ec7",
   "metadata": {},
   "outputs": [],
   "source": [
    "from selenium import webdriver as wb\n",
    "from selenium.webdriver.common.by import By\n",
    "from selenium.webdriver.common.keys import Keys\n",
    "import time"
   ]
  },
  {
   "cell_type": "code",
   "execution_count": 4,
   "id": "dd68634f",
   "metadata": {},
   "outputs": [],
   "source": [
    "driver = wb.Chrome()\n",
    "driver.get(\"https://map.naver.com/p?c=15.00,0,0,0,dh\")"
   ]
  },
  {
   "cell_type": "code",
   "execution_count": 6,
   "id": "04525fef",
   "metadata": {},
   "outputs": [],
   "source": [
    "# 검색창 조회, 동명동 맛집 검색\n",
    "# 검색창의 아이디가 매번 변한다.\n",
    "# 해결책 : 다른 선택자(class, 계층선택자)를 활용 한다\n",
    "search = driver.find_element(By.CSS_SELECTOR,\"input.input_search\")\n",
    "search.send_keys(\"동명동맛집\")\n",
    "search.send_keys(Keys.ENTER)"
   ]
  },
  {
   "cell_type": "code",
   "execution_count": 11,
   "id": "5153e8da",
   "metadata": {},
   "outputs": [],
   "source": [
    "# 가게이름을 수집 , 클릭\n",
    "# 수집과 클릭이 되지 않는 이유는 -> iframe에 감싸져 있기 때문에~\n",
    "title = driver.find_elements(By.CSS_SELECTOR,\"#_pcmap_list_scroll_container > ul > li > div.CHC5F > a > div > div > span.TYaxT\")\n",
    "title[0].click()"
   ]
  },
  {
   "cell_type": "code",
   "execution_count": 10,
   "id": "1c52eccf",
   "metadata": {},
   "outputs": [],
   "source": [
    "# iframe창으로 데이터를 변경\n",
    "driver.switch_to.frame(\"searchIframe\")"
   ]
  },
  {
   "cell_type": "code",
   "execution_count": 16,
   "id": "f02c5d37",
   "metadata": {},
   "outputs": [
    {
     "data": {
      "text/plain": [
       "'한우곱창집 동명동 본점'"
      ]
     },
     "execution_count": 16,
     "metadata": {},
     "output_type": "execute_result"
    }
   ],
   "source": [
    "# 가게 이름수집\n",
    "# 디테일 정보도 iframe에 감싸져있다.\n",
    "name = driver.find_element(By.CSS_SELECTOR,\"#_title > div > span.Fc1rA\")\n",
    "name.text"
   ]
  },
  {
   "cell_type": "code",
   "execution_count": 15,
   "id": "0724bcee",
   "metadata": {},
   "outputs": [],
   "source": [
    "# iframe에서 다른 iframe으로 이동이 불가능\n",
    "# 둘은 서로 모르는 관계\n",
    "# 원본에 갔다가 다른 frame으로 이동\n",
    "driver.switch_to.frame(\"entryIframe\")"
   ]
  },
  {
   "cell_type": "code",
   "execution_count": 14,
   "id": "9a2a2f5c",
   "metadata": {},
   "outputs": [],
   "source": [
    "# 원본으로 돌아가는 방법\n",
    "driver.switch_to.default_content()"
   ]
  },
  {
   "cell_type": "code",
   "execution_count": null,
   "id": "77b80e0f",
   "metadata": {},
   "outputs": [],
   "source": [
    "# 코드 정리\n",
    "driver.switch_to.frame(\"searchIframe\")\n",
    "title = driver.find_elements(By.CSS_SELECTOR,\"#_pcmap_list_scroll_container > ul > li > div.CHC5F > a > div > div > span.TYaxT\")\n",
    "title[0].click()\n",
    "driver.switch_to.default_content()\n",
    "driver.switch_to.frame(\"entryIframe\")\n",
    "name = driver.find_element(By.CSS_SELECTOR,\"#_title > div > span.Fc1rA\")\n",
    "name.text\n",
    "driver.switch_to.default_content()\n",
    "driver.switch_to.frame(\"searchIframe\")\n",
    "title = driver.find_elements(By.CSS_SELECTOR,\"#_pcmap_list_scroll_container > ul > li > div.CHC5F > a > div > div > span.TYaxT\")\n",
    "title[1].click()\n",
    "driver.switch_to.default_content()\n",
    "driver.switch_to.frame(\"entryIframe\")\n",
    "name = driver.find_element(By.CSS_SELECTOR,\"#_title > div > span.Fc1rA\")\n",
    "name.text"
   ]
  },
  {
   "cell_type": "markdown",
   "id": "04552e47",
   "metadata": {},
   "source": [
    "# iframe 이동하는 방법\n",
    "- selenium에서 iframe을 이동할 때, switch_to 이동\n",
    "- 프레임 이동 = switch_to.frame(\"frame의 id\")\n",
    "- 원본 이동 = swtich_to.default_content()\n",
    "- 주의점 ! frame에서 다른 frame으로 이동이 불가능 -> 원본을 거쳐서 이동할 것\n",
    "- selenium을 통해 데이터 수집이 안되는 경우\n",
    "- 1. 선택자 2. iframe 3.화면상에 데이터가 안보이는 경우 (스크롤 움직여서)"
   ]
  }
 ],
 "metadata": {
  "kernelspec": {
   "display_name": "Python 3 (ipykernel)",
   "language": "python",
   "name": "python3"
  },
  "language_info": {
   "codemirror_mode": {
    "name": "ipython",
    "version": 3
   },
   "file_extension": ".py",
   "mimetype": "text/x-python",
   "name": "python",
   "nbconvert_exporter": "python",
   "pygments_lexer": "ipython3",
   "version": "3.11.5"
  }
 },
 "nbformat": 4,
 "nbformat_minor": 5
}
