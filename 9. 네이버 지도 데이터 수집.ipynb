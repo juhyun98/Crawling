{
 "cells": [
  {
   "cell_type": "code",
   "execution_count": 4,
   "id": "ddb962ce",
   "metadata": {},
   "outputs": [],
   "source": [
    "from selenium import webdriver as wb\n",
    "from selenium.webdriver.common.by import By\n",
    "from selenium.webdriver.common.keys import Keys\n",
    "import time"
   ]
  },
  {
   "cell_type": "code",
   "execution_count": 18,
   "id": "630f1bb1",
   "metadata": {},
   "outputs": [],
   "source": [
    "driver = wb.Chrome()\n",
    "driver.get(\"https://map.naver.com/p?c=15.00,0,0,0,dh\")"
   ]
  },
  {
   "cell_type": "code",
   "execution_count": 19,
   "id": "e95200be",
   "metadata": {},
   "outputs": [],
   "source": [
    "# 검색창 조회, 동명돔 맛집 검색\n",
    "# 검색착의 아이디가 매번 변한다.\n",
    "# 해결책 : 다른 선택자(class, 계층선택자)를\n",
    "search = driver.find_element(By.CSS_SELECTOR, \"input.input_search\")\n",
    "search.send_keys(\"동명동 회식\")\n",
    "search.send_keys(Keys.ENTER)"
   ]
  },
  {
   "cell_type": "code",
   "execution_count": 22,
   "id": "45633240",
   "metadata": {
    "collapsed": true
   },
   "outputs": [
    {
     "ename": "NoSuchElementException",
     "evalue": "Message: no such element: Unable to locate element: {\"method\":\"css selector\",\"selector\":\"#_pcmap_list_scroll_container > ul > li:nth-child(1) > div.CHC5F > a.tzwk0 > div > div > span.TYaxT\"}\n  (Session info: chrome=120.0.6099.130); For documentation on this error, please visit: https://www.selenium.dev/documentation/webdriver/troubleshooting/errors#no-such-element-exception\nStacktrace:\n\tGetHandleVerifier [0x00007FF6458D2142+3514994]\n\t(No symbol) [0x00007FF6454F0CE2]\n\t(No symbol) [0x00007FF6453976AA]\n\t(No symbol) [0x00007FF6453E1860]\n\t(No symbol) [0x00007FF6453E197C]\n\t(No symbol) [0x00007FF645424EE7]\n\t(No symbol) [0x00007FF64540602F]\n\t(No symbol) [0x00007FF6454228F6]\n\t(No symbol) [0x00007FF645405D93]\n\t(No symbol) [0x00007FF6453D4BDC]\n\t(No symbol) [0x00007FF6453D5C64]\n\tGetHandleVerifier [0x00007FF6458FE16B+3695259]\n\tGetHandleVerifier [0x00007FF645956737+4057191]\n\tGetHandleVerifier [0x00007FF64594E4E3+4023827]\n\tGetHandleVerifier [0x00007FF6456204F9+689705]\n\t(No symbol) [0x00007FF6454FC048]\n\t(No symbol) [0x00007FF6454F8044]\n\t(No symbol) [0x00007FF6454F81C9]\n\t(No symbol) [0x00007FF6454E88C4]\n\tBaseThreadInitThunk [0x00007FFA730A7344+20]\n\tRtlUserThreadStart [0x00007FFA745626B1+33]\n",
     "output_type": "error",
     "traceback": [
      "\u001b[1;31m---------------------------------------------------------------------------\u001b[0m",
      "\u001b[1;31mNoSuchElementException\u001b[0m                    Traceback (most recent call last)",
      "Cell \u001b[1;32mIn[22], line 2\u001b[0m\n\u001b[0;32m      1\u001b[0m \u001b[38;5;66;03m# 가게이름을 수집, 클릭\u001b[39;00m\n\u001b[1;32m----> 2\u001b[0m title \u001b[38;5;241m=\u001b[39m driver\u001b[38;5;241m.\u001b[39mfind_element(By\u001b[38;5;241m.\u001b[39mCSS_SELECTOR, \u001b[38;5;124m\"\u001b[39m\u001b[38;5;124m#_pcmap_list_scroll_container > ul > li:nth-child(1) > div.CHC5F > a.tzwk0 > div > div > span.TYaxT\u001b[39m\u001b[38;5;124m\"\u001b[39m)\n\u001b[0;32m      3\u001b[0m title\u001b[38;5;241m.\u001b[39mclick()\n",
      "File \u001b[1;32m~\\anaconda3\\Lib\\site-packages\\selenium\\webdriver\\remote\\webdriver.py:742\u001b[0m, in \u001b[0;36mWebDriver.find_element\u001b[1;34m(self, by, value)\u001b[0m\n\u001b[0;32m    739\u001b[0m     by \u001b[38;5;241m=\u001b[39m By\u001b[38;5;241m.\u001b[39mCSS_SELECTOR\n\u001b[0;32m    740\u001b[0m     value \u001b[38;5;241m=\u001b[39m \u001b[38;5;124mf\u001b[39m\u001b[38;5;124m'\u001b[39m\u001b[38;5;124m[name=\u001b[39m\u001b[38;5;124m\"\u001b[39m\u001b[38;5;132;01m{\u001b[39;00mvalue\u001b[38;5;132;01m}\u001b[39;00m\u001b[38;5;124m\"\u001b[39m\u001b[38;5;124m]\u001b[39m\u001b[38;5;124m'\u001b[39m\n\u001b[1;32m--> 742\u001b[0m \u001b[38;5;28;01mreturn\u001b[39;00m \u001b[38;5;28mself\u001b[39m\u001b[38;5;241m.\u001b[39mexecute(Command\u001b[38;5;241m.\u001b[39mFIND_ELEMENT, {\u001b[38;5;124m\"\u001b[39m\u001b[38;5;124musing\u001b[39m\u001b[38;5;124m\"\u001b[39m: by, \u001b[38;5;124m\"\u001b[39m\u001b[38;5;124mvalue\u001b[39m\u001b[38;5;124m\"\u001b[39m: value})[\u001b[38;5;124m\"\u001b[39m\u001b[38;5;124mvalue\u001b[39m\u001b[38;5;124m\"\u001b[39m]\n",
      "File \u001b[1;32m~\\anaconda3\\Lib\\site-packages\\selenium\\webdriver\\remote\\webdriver.py:348\u001b[0m, in \u001b[0;36mWebDriver.execute\u001b[1;34m(self, driver_command, params)\u001b[0m\n\u001b[0;32m    346\u001b[0m response \u001b[38;5;241m=\u001b[39m \u001b[38;5;28mself\u001b[39m\u001b[38;5;241m.\u001b[39mcommand_executor\u001b[38;5;241m.\u001b[39mexecute(driver_command, params)\n\u001b[0;32m    347\u001b[0m \u001b[38;5;28;01mif\u001b[39;00m response:\n\u001b[1;32m--> 348\u001b[0m     \u001b[38;5;28mself\u001b[39m\u001b[38;5;241m.\u001b[39merror_handler\u001b[38;5;241m.\u001b[39mcheck_response(response)\n\u001b[0;32m    349\u001b[0m     response[\u001b[38;5;124m\"\u001b[39m\u001b[38;5;124mvalue\u001b[39m\u001b[38;5;124m\"\u001b[39m] \u001b[38;5;241m=\u001b[39m \u001b[38;5;28mself\u001b[39m\u001b[38;5;241m.\u001b[39m_unwrap_value(response\u001b[38;5;241m.\u001b[39mget(\u001b[38;5;124m\"\u001b[39m\u001b[38;5;124mvalue\u001b[39m\u001b[38;5;124m\"\u001b[39m, \u001b[38;5;28;01mNone\u001b[39;00m))\n\u001b[0;32m    350\u001b[0m     \u001b[38;5;28;01mreturn\u001b[39;00m response\n",
      "File \u001b[1;32m~\\anaconda3\\Lib\\site-packages\\selenium\\webdriver\\remote\\errorhandler.py:229\u001b[0m, in \u001b[0;36mErrorHandler.check_response\u001b[1;34m(self, response)\u001b[0m\n\u001b[0;32m    227\u001b[0m         alert_text \u001b[38;5;241m=\u001b[39m value[\u001b[38;5;124m\"\u001b[39m\u001b[38;5;124malert\u001b[39m\u001b[38;5;124m\"\u001b[39m]\u001b[38;5;241m.\u001b[39mget(\u001b[38;5;124m\"\u001b[39m\u001b[38;5;124mtext\u001b[39m\u001b[38;5;124m\"\u001b[39m)\n\u001b[0;32m    228\u001b[0m     \u001b[38;5;28;01mraise\u001b[39;00m exception_class(message, screen, stacktrace, alert_text)  \u001b[38;5;66;03m# type: ignore[call-arg]  # mypy is not smart enough here\u001b[39;00m\n\u001b[1;32m--> 229\u001b[0m \u001b[38;5;28;01mraise\u001b[39;00m exception_class(message, screen, stacktrace)\n",
      "\u001b[1;31mNoSuchElementException\u001b[0m: Message: no such element: Unable to locate element: {\"method\":\"css selector\",\"selector\":\"#_pcmap_list_scroll_container > ul > li:nth-child(1) > div.CHC5F > a.tzwk0 > div > div > span.TYaxT\"}\n  (Session info: chrome=120.0.6099.130); For documentation on this error, please visit: https://www.selenium.dev/documentation/webdriver/troubleshooting/errors#no-such-element-exception\nStacktrace:\n\tGetHandleVerifier [0x00007FF6458D2142+3514994]\n\t(No symbol) [0x00007FF6454F0CE2]\n\t(No symbol) [0x00007FF6453976AA]\n\t(No symbol) [0x00007FF6453E1860]\n\t(No symbol) [0x00007FF6453E197C]\n\t(No symbol) [0x00007FF645424EE7]\n\t(No symbol) [0x00007FF64540602F]\n\t(No symbol) [0x00007FF6454228F6]\n\t(No symbol) [0x00007FF645405D93]\n\t(No symbol) [0x00007FF6453D4BDC]\n\t(No symbol) [0x00007FF6453D5C64]\n\tGetHandleVerifier [0x00007FF6458FE16B+3695259]\n\tGetHandleVerifier [0x00007FF645956737+4057191]\n\tGetHandleVerifier [0x00007FF64594E4E3+4023827]\n\tGetHandleVerifier [0x00007FF6456204F9+689705]\n\t(No symbol) [0x00007FF6454FC048]\n\t(No symbol) [0x00007FF6454F8044]\n\t(No symbol) [0x00007FF6454F81C9]\n\t(No symbol) [0x00007FF6454E88C4]\n\tBaseThreadInitThunk [0x00007FFA730A7344+20]\n\tRtlUserThreadStart [0x00007FFA745626B1+33]\n"
     ]
    }
   ],
   "source": [
    "# 가게이름을 수집, 클릭\n",
    "# 수집과 클릭이 되지 않는 이유는 -> iframe이 \n",
    "title = driver.find_elements(By.CSS_SELECTOR, \"#_pcmap_list_scroll_container > ul > li:nth-child(1) > div.CHC5F > a.tzwk0 > div > div > span.TYaxT\")\n",
    "title[0].click()"
   ]
  },
  {
   "cell_type": "code",
   "execution_count": null,
   "id": "5e0f31aa",
   "metadata": {},
   "outputs": [],
   "source": [
    "# iframe창으로 데이터를 변경\n",
    "driver.switch_to.frame(\"selectIframe\")"
   ]
  },
  {
   "cell_type": "code",
   "execution_count": null,
   "id": "283f3ed4",
   "metadata": {},
   "outputs": [],
   "source": [
    "driver"
   ]
  },
  {
   "cell_type": "markdown",
   "id": "dbabae57",
   "metadata": {},
   "source": [
    "# iframe 이동하는 방법\n",
    " - selenium에서 iframe을 이동할 때, switch_to 이동\n",
    " - 프레임 이동 = switch_to, frame(\"frame의 id\")\n",
    " - 원본 이동 = switch_to.default_content()\n",
    " - 주의점 ! frame에서 다른 frame으로 이동이 불가능 -> 원본을 거쳐서 이동할 것\n",
    " - selenium을 통해 데이터 수집이 안되는 경우\n",
    " - 1. 선택자 2. iframe 3. 화면상에 데이터가 안보이는 경우 (스크롤 움직여서)"
   ]
  },
  {
   "cell_type": "code",
   "execution_count": null,
   "id": "9114c9d3",
   "metadata": {},
   "outputs": [],
   "source": []
  }
 ],
 "metadata": {
  "kernelspec": {
   "display_name": "Python 3 (ipykernel)",
   "language": "python",
   "name": "python3"
  },
  "language_info": {
   "codemirror_mode": {
    "name": "ipython",
    "version": 3
   },
   "file_extension": ".py",
   "mimetype": "text/x-python",
   "name": "python",
   "nbconvert_exporter": "python",
   "pygments_lexer": "ipython3",
   "version": "3.11.5"
  }
 },
 "nbformat": 4,
 "nbformat_minor": 5
}
