{
 "cells": [
  {
   "cell_type": "markdown",
   "id": "cf9f817a",
   "metadata": {},
   "source": [
    "# Selenium 라이브러리\n",
    "- 브라우저를 제어하는 라이브러리\n",
    "- 반드시 한번 설치가 필요"
   ]
  },
  {
   "cell_type": "code",
   "execution_count": 1,
   "id": "614f4ee9",
   "metadata": {
    "collapsed": true
   },
   "outputs": [
    {
     "name": "stdout",
     "output_type": "stream",
     "text": [
      "Collecting selenium\n",
      "  Obtaining dependency information for selenium from https://files.pythonhosted.org/packages/dc/72/96b5afa16908f9abc7c24b70adfd3a46c9740eb728ddfeab28379e38eaf9/selenium-4.16.0-py3-none-any.whl.metadata\n",
      "  Downloading selenium-4.16.0-py3-none-any.whl.metadata (6.9 kB)\n",
      "Requirement already satisfied: urllib3[socks]<3,>=1.26 in c:\\users\\smhrd\\anaconda3\\lib\\site-packages (from selenium) (1.26.16)\n",
      "Collecting trio~=0.17 (from selenium)\n",
      "  Obtaining dependency information for trio~=0.17 from https://files.pythonhosted.org/packages/3e/14/746bb2b403af4be680ca0ae240d62473c4ec3b836024c2e85f27856d7991/trio-0.23.2-py3-none-any.whl.metadata\n",
      "  Downloading trio-0.23.2-py3-none-any.whl.metadata (4.9 kB)\n",
      "Collecting trio-websocket~=0.9 (from selenium)\n",
      "  Obtaining dependency information for trio-websocket~=0.9 from https://files.pythonhosted.org/packages/48/be/a9ae5f50cad5b6f85bd2574c2c923730098530096e170c1ce7452394d7aa/trio_websocket-0.11.1-py3-none-any.whl.metadata\n",
      "  Downloading trio_websocket-0.11.1-py3-none-any.whl.metadata (4.7 kB)\n",
      "Requirement already satisfied: certifi>=2021.10.8 in c:\\users\\smhrd\\anaconda3\\lib\\site-packages (from selenium) (2023.7.22)\n",
      "Requirement already satisfied: attrs>=20.1.0 in c:\\users\\smhrd\\anaconda3\\lib\\site-packages (from trio~=0.17->selenium) (22.1.0)\n",
      "Requirement already satisfied: sortedcontainers in c:\\users\\smhrd\\anaconda3\\lib\\site-packages (from trio~=0.17->selenium) (2.4.0)\n",
      "Requirement already satisfied: idna in c:\\users\\smhrd\\anaconda3\\lib\\site-packages (from trio~=0.17->selenium) (3.4)\n",
      "Collecting outcome (from trio~=0.17->selenium)\n",
      "  Obtaining dependency information for outcome from https://files.pythonhosted.org/packages/55/8b/5ab7257531a5d830fc8000c476e63c935488d74609b50f9384a643ec0a62/outcome-1.3.0.post0-py2.py3-none-any.whl.metadata\n",
      "  Downloading outcome-1.3.0.post0-py2.py3-none-any.whl.metadata (2.6 kB)\n",
      "Collecting sniffio>=1.3.0 (from trio~=0.17->selenium)\n",
      "  Downloading sniffio-1.3.0-py3-none-any.whl (10 kB)\n",
      "Requirement already satisfied: cffi>=1.14 in c:\\users\\smhrd\\anaconda3\\lib\\site-packages (from trio~=0.17->selenium) (1.15.1)\n",
      "Collecting wsproto>=0.14 (from trio-websocket~=0.9->selenium)\n",
      "  Downloading wsproto-1.2.0-py3-none-any.whl (24 kB)\n",
      "Requirement already satisfied: PySocks!=1.5.7,<2.0,>=1.5.6 in c:\\users\\smhrd\\anaconda3\\lib\\site-packages (from urllib3[socks]<3,>=1.26->selenium) (1.7.1)\n",
      "Requirement already satisfied: pycparser in c:\\users\\smhrd\\anaconda3\\lib\\site-packages (from cffi>=1.14->trio~=0.17->selenium) (2.21)\n",
      "Collecting h11<1,>=0.9.0 (from wsproto>=0.14->trio-websocket~=0.9->selenium)\n",
      "  Downloading h11-0.14.0-py3-none-any.whl (58 kB)\n",
      "     ---------------------------------------- 0.0/58.3 kB ? eta -:--:--\n",
      "     ---------------------------------------- 58.3/58.3 kB 3.0 MB/s eta 0:00:00\n",
      "Downloading selenium-4.16.0-py3-none-any.whl (10.0 MB)\n",
      "   ---------------------------------------- 0.0/10.0 MB ? eta -:--:--\n",
      "   ----- ---------------------------------- 1.4/10.0 MB 45.9 MB/s eta 0:00:01\n",
      "   --------- ------------------------------ 2.3/10.0 MB 29.8 MB/s eta 0:00:01\n",
      "   ---------------- ----------------------- 4.0/10.0 MB 32.3 MB/s eta 0:00:01\n",
      "   ------------------------- -------------- 6.3/10.0 MB 36.6 MB/s eta 0:00:01\n",
      "   ----------------------------------- ---- 8.7/10.0 MB 39.9 MB/s eta 0:00:01\n",
      "   ---------------------------------------  10.0/10.0 MB 39.8 MB/s eta 0:00:01\n",
      "   ---------------------------------------  10.0/10.0 MB 39.8 MB/s eta 0:00:01\n",
      "   ---------------------------------------- 10.0/10.0 MB 30.4 MB/s eta 0:00:00\n",
      "Downloading trio-0.23.2-py3-none-any.whl (461 kB)\n",
      "   ---------------------------------------- 0.0/461.6 kB ? eta -:--:--\n",
      "   --------------------------------------- 461.6/461.6 kB 30.1 MB/s eta 0:00:00\n",
      "Downloading trio_websocket-0.11.1-py3-none-any.whl (17 kB)\n",
      "Downloading outcome-1.3.0.post0-py2.py3-none-any.whl (10 kB)\n",
      "Installing collected packages: sniffio, outcome, h11, wsproto, trio, trio-websocket, selenium\n",
      "  Attempting uninstall: sniffio\n",
      "    Found existing installation: sniffio 1.2.0\n",
      "    Uninstalling sniffio-1.2.0:\n",
      "      Successfully uninstalled sniffio-1.2.0\n",
      "Successfully installed h11-0.14.0 outcome-1.3.0.post0 selenium-4.16.0 sniffio-1.3.0 trio-0.23.2 trio-websocket-0.11.1 wsproto-1.2.0\n"
     ]
    }
   ],
   "source": [
    "!pip install selenium"
   ]
  },
  {
   "cell_type": "code",
   "execution_count": 2,
   "id": "fefcaebc",
   "metadata": {},
   "outputs": [],
   "source": [
    "# 라이브러리 호출\n",
    "from selenium import webdriver as wb # 실제 브라우저 역할\n",
    "from selenium.webdriver.common.by import By # 선택자를 구분지어주는 역할\n",
    "\n",
    "from selenium.webdriver.common.keys import Keys # 키보드 역할"
   ]
  },
  {
   "cell_type": "code",
   "execution_count": 4,
   "id": "a1d65cbd",
   "metadata": {},
   "outputs": [],
   "source": [
    "# 1. 크롬브라우저 실행\n",
    "# - 구버전 코드에는 Chrome(\"크롬드라이버 경로\")\n",
    "# - 신버전은 크롬드라이버를 설치할 필요가 없다.\n",
    "driver = wb.Chrome()"
   ]
  },
  {
   "cell_type": "code",
   "execution_count": 5,
   "id": "809cb321",
   "metadata": {},
   "outputs": [],
   "source": [
    "# 2. 페이지 이동\n",
    "driver.get(\"http://www.naver.com\")"
   ]
  },
  {
   "cell_type": "code",
   "execution_count": 7,
   "id": "3c12db2a",
   "metadata": {},
   "outputs": [],
   "source": [
    "# 3. 검색창을 알아오기!\n",
    "# 브라우저에서 내가 원하는 요소를 찾을거야!\n",
    "# 구버전코드 = driver.find_element_by_id(\"id값\")\n",
    "search = driver.find_element(By.ID,\"query\")"
   ]
  },
  {
   "cell_type": "code",
   "execution_count": 8,
   "id": "90e6f15e",
   "metadata": {},
   "outputs": [],
   "source": [
    "# 4. 검색을 진행\n",
    "search.send_keys(\"손흥민\")"
   ]
  },
  {
   "cell_type": "code",
   "execution_count": 9,
   "id": "e568aca9",
   "metadata": {},
   "outputs": [],
   "source": [
    "# 5. 키보드의 엔터를 사용\n",
    "search.send_keys(Keys.ENTER)"
   ]
  },
  {
   "cell_type": "code",
   "execution_count": 10,
   "id": "ed18fa76",
   "metadata": {},
   "outputs": [],
   "source": [
    "# 6. 스크롤을 최하단으로 이동\n",
    "body = driver.find_element(By.TAG_NAME,\"body\")\n",
    "body.send_keys(Keys.END)"
   ]
  },
  {
   "cell_type": "code",
   "execution_count": 11,
   "id": "58ccd008",
   "metadata": {},
   "outputs": [],
   "source": [
    "# 7. 뒤로가기\n",
    "driver.back()"
   ]
  },
  {
   "cell_type": "code",
   "execution_count": 14,
   "id": "2f2b4579",
   "metadata": {},
   "outputs": [],
   "source": [
    "#8. 검색창에 이강인\n",
    "# 페이지가 변하면 모든 데이터가 초기화\n",
    "# 반드시 페이지가 변하면 새로 요소를 찾아와야한다.\n",
    "search = driver.find_element(By.ID,\"query\")\n",
    "search.send_keys(\"이강인\")"
   ]
  },
  {
   "cell_type": "code",
   "execution_count": 15,
   "id": "d47c89e7",
   "metadata": {},
   "outputs": [],
   "source": [
    "#9. 버튼을 클릭\n",
    "btn = driver.find_element(By.CSS_SELECTOR,\"#sform > fieldset > button\")\n",
    "btn.click()"
   ]
  },
  {
   "cell_type": "code",
   "execution_count": 18,
   "id": "b2473439",
   "metadata": {},
   "outputs": [],
   "source": [
    "#10. 뉴스타이틀 수집\n",
    "title = driver.find_elements(By.CSS_SELECTOR,\"div.news_wrap.api_ani_send > div > div.news_contents > a.news_tit\")"
   ]
  },
  {
   "cell_type": "code",
   "execution_count": 19,
   "id": "a850e376",
   "metadata": {
    "collapsed": true
   },
   "outputs": [
    {
     "name": "stdout",
     "output_type": "stream",
     "text": [
      "이강인·김민재, 통계매체 선정 프랑스·독일 전반기 베스트 11\n",
      "이강인 그랜드 피날레\n",
      "‘2호 도움’ 이강인, 올해 마무리…한국 축구, 亞컵·올림픽 향해 뛴다\n",
      "이강인, '택배 크로스'로 2호 도움…혹평 잠재웠다\n"
     ]
    }
   ],
   "source": [
    "for i in title : \n",
    "    print(i.text)"
   ]
  },
  {
   "cell_type": "code",
   "execution_count": 20,
   "id": "4b6b5af8",
   "metadata": {},
   "outputs": [],
   "source": [
    "#11. 창을 종료\n",
    "driver.close()"
   ]
  },
  {
   "cell_type": "code",
   "execution_count": null,
   "id": "16c2f252",
   "metadata": {},
   "outputs": [],
   "source": []
  }
 ],
 "metadata": {
  "kernelspec": {
   "display_name": "Python 3 (ipykernel)",
   "language": "python",
   "name": "python3"
  },
  "language_info": {
   "codemirror_mode": {
    "name": "ipython",
    "version": 3
   },
   "file_extension": ".py",
   "mimetype": "text/x-python",
   "name": "python",
   "nbconvert_exporter": "python",
   "pygments_lexer": "ipython3",
   "version": "3.11.5"
  }
 },
 "nbformat": 4,
 "nbformat_minor": 5
}
