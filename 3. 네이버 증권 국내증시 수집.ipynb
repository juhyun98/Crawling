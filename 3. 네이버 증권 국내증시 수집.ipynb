{
 "cells": [
  {
   "cell_type": "code",
   "execution_count": 1,
   "id": "4203b512",
   "metadata": {},
   "outputs": [],
   "source": [
    "import requests as req\n",
    "from bs4 import BeautifulSoup as bs"
   ]
  },
  {
   "cell_type": "code",
   "execution_count": 3,
   "id": "9b111813",
   "metadata": {},
   "outputs": [],
   "source": [
    "# 1. 조회하고자 하는 사이트를 요청\n",
    "res = req.get(\"https://finance.naver.com/sise/sise_market_sum.naver\")"
   ]
  },
  {
   "cell_type": "code",
   "execution_count": 8,
   "id": "18553bf7",
   "metadata": {},
   "outputs": [],
   "source": [
    "# 2. 데이터를 HTML로 변환\n",
    "soup = bs(res.text, \"lxml\")"
   ]
  },
  {
   "cell_type": "code",
   "execution_count": 10,
   "id": "96bb9ea8",
   "metadata": {},
   "outputs": [],
   "source": [
    "# 3. 특정 요소를 수집\n",
    "title = soup.select(\"a.tltle\")"
   ]
  },
  {
   "cell_type": "code",
   "execution_count": 14,
   "id": "71f71ed2",
   "metadata": {},
   "outputs": [],
   "source": [
    "# 4. 가격을 수집\n",
    "# -> copyselector를 활용해서 수집\n",
    "# -> 반드시 한개만 가지고 온다, 선택자를 수정 필요!\n",
    "# table같은 경우에는 tr(줄)을 복수개를 가지고 와야 여러개의 데이터가 수집\n",
    "\n",
    "price = soup.select(\"#contentarea > div.box_type_l > table.type_2 > tbody > tr:nth-child(2) > td:nth-child(2) > a\")"
   ]
  },
  {
   "cell_type": "code",
   "execution_count": null,
   "id": "4d69e311",
   "metadata": {},
   "outputs": [],
   "source": [
    "# 5. 순수한 텍스트 정보를 비어있는 리스트에 저장!\n",
    "# -> 사용자가 사용할 데이터는 텍스트 데이터이기 때문에.\n"
   ]
  },
  {
   "cell_type": "code",
   "execution_count": null,
   "id": "9bccfa0f",
   "metadata": {},
   "outputs": [],
   "source": []
  },
  {
   "cell_type": "code",
   "execution_count": null,
   "id": "aefb945a",
   "metadata": {},
   "outputs": [],
   "source": []
  }
 ],
 "metadata": {
  "kernelspec": {
   "display_name": "Python 3 (ipykernel)",
   "language": "python",
   "name": "python3"
  },
  "language_info": {
   "codemirror_mode": {
    "name": "ipython",
    "version": 3
   },
   "file_extension": ".py",
   "mimetype": "text/x-python",
   "name": "python",
   "nbconvert_exporter": "python",
   "pygments_lexer": "ipython3",
   "version": "3.11.5"
  }
 },
 "nbformat": 4,
 "nbformat_minor": 5
}
