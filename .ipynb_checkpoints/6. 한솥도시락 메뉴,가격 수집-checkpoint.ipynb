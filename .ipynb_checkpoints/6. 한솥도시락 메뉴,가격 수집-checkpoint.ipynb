{
 "cells": [
  {
   "cell_type": "code",
   "execution_count": 1,
   "id": "3f534c7d",
   "metadata": {},
   "outputs": [],
   "source": [
    "from selenium import webdriver as wb\n",
    "from selenium.webdriver.common.by import By\n",
    "import pandas as pd"
   ]
  },
  {
   "cell_type": "code",
   "execution_count": 2,
   "id": "44237711",
   "metadata": {},
   "outputs": [],
   "source": [
    "# 1. 한솥도시락 사이트를 요청\n",
    "driver = wb.Chrome()\n",
    "driver.get(\"https://www.hsd.co.kr/menu/menu_list\")"
   ]
  },
  {
   "cell_type": "code",
   "execution_count": 10,
   "id": "ff599bd0",
   "metadata": {},
   "outputs": [],
   "source": [
    "# 상품명을 수집\n",
    "title = driver.find_elements(By.CSS_SELECTOR,\"div > div.item-text > h4\")"
   ]
  },
  {
   "cell_type": "code",
   "execution_count": 6,
   "id": "a1626ebb",
   "metadata": {},
   "outputs": [],
   "source": [
    "# 상품가격을 수집\n",
    "price = driver.find_elements(By.CSS_SELECTOR,\"div > div.item-text > div > strong\")"
   ]
  },
  {
   "cell_type": "code",
   "execution_count": 11,
   "id": "8eff39d1",
   "metadata": {},
   "outputs": [
    {
     "data": {
      "text/plain": [
       "101"
      ]
     },
     "execution_count": 11,
     "metadata": {},
     "output_type": "execute_result"
    }
   ],
   "source": [
    "# 데이터의 개수가 정해진 경우에는, 반드시 개수를 검증 \n",
    "len(title)"
   ]
  },
  {
   "cell_type": "code",
   "execution_count": 9,
   "id": "67e60104",
   "metadata": {},
   "outputs": [],
   "source": [
    "# 완벽한 데이터를 로딩 하기 위해서, 더보기 버튼을 클릭\n",
    "btn = driver.find_element(By.CSS_SELECTOR,\"#btn_more > span > a\")\n",
    "btn.click()"
   ]
  },
  {
   "cell_type": "code",
   "execution_count": 12,
   "id": "d30336ab",
   "metadata": {
    "collapsed": true
   },
   "outputs": [
    {
     "ename": "ElementNotInteractableException",
     "evalue": "Message: element not interactable\n  (Session info: chrome=120.0.6099.129)\nStacktrace:\n\tGetHandleVerifier [0x00007FF6FF912142+3514994]\n\t(No symbol) [0x00007FF6FF530CE2]\n\t(No symbol) [0x00007FF6FF3D74C3]\n\t(No symbol) [0x00007FF6FF422D29]\n\t(No symbol) [0x00007FF6FF416A0F]\n\t(No symbol) [0x00007FF6FF445FEA]\n\t(No symbol) [0x00007FF6FF4163B6]\n\t(No symbol) [0x00007FF6FF446490]\n\t(No symbol) [0x00007FF6FF4628F6]\n\t(No symbol) [0x00007FF6FF445D93]\n\t(No symbol) [0x00007FF6FF414BDC]\n\t(No symbol) [0x00007FF6FF415C64]\n\tGetHandleVerifier [0x00007FF6FF93E16B+3695259]\n\tGetHandleVerifier [0x00007FF6FF996737+4057191]\n\tGetHandleVerifier [0x00007FF6FF98E4E3+4023827]\n\tGetHandleVerifier [0x00007FF6FF6604F9+689705]\n\t(No symbol) [0x00007FF6FF53C048]\n\t(No symbol) [0x00007FF6FF538044]\n\t(No symbol) [0x00007FF6FF5381C9]\n\t(No symbol) [0x00007FF6FF5288C4]\n\tBaseThreadInitThunk [0x00007FF947127344+20]\n\tRtlUserThreadStart [0x00007FF948F426B1+33]\n",
     "output_type": "error",
     "traceback": [
      "\u001b[1;31m---------------------------------------------------------------------------\u001b[0m",
      "\u001b[1;31mElementNotInteractableException\u001b[0m           Traceback (most recent call last)",
      "Cell \u001b[1;32mIn[12], line 4\u001b[0m\n\u001b[0;32m      2\u001b[0m \u001b[38;5;28;01mfor\u001b[39;00m i \u001b[38;5;129;01min\u001b[39;00m \u001b[38;5;28mrange\u001b[39m(\u001b[38;5;241m100\u001b[39m) :\n\u001b[0;32m      3\u001b[0m     btn \u001b[38;5;241m=\u001b[39m driver\u001b[38;5;241m.\u001b[39mfind_element(By\u001b[38;5;241m.\u001b[39mCSS_SELECTOR,\u001b[38;5;124m\"\u001b[39m\u001b[38;5;124m#btn_more > span > a\u001b[39m\u001b[38;5;124m\"\u001b[39m)\n\u001b[1;32m----> 4\u001b[0m     btn\u001b[38;5;241m.\u001b[39mclick()\n",
      "File \u001b[1;32m~\\anaconda3\\Lib\\site-packages\\selenium\\webdriver\\remote\\webelement.py:94\u001b[0m, in \u001b[0;36mWebElement.click\u001b[1;34m(self)\u001b[0m\n\u001b[0;32m     92\u001b[0m \u001b[38;5;28;01mdef\u001b[39;00m \u001b[38;5;21mclick\u001b[39m(\u001b[38;5;28mself\u001b[39m) \u001b[38;5;241m-\u001b[39m\u001b[38;5;241m>\u001b[39m \u001b[38;5;28;01mNone\u001b[39;00m:\n\u001b[0;32m     93\u001b[0m \u001b[38;5;250m    \u001b[39m\u001b[38;5;124;03m\"\"\"Clicks the element.\"\"\"\u001b[39;00m\n\u001b[1;32m---> 94\u001b[0m     \u001b[38;5;28mself\u001b[39m\u001b[38;5;241m.\u001b[39m_execute(Command\u001b[38;5;241m.\u001b[39mCLICK_ELEMENT)\n",
      "File \u001b[1;32m~\\anaconda3\\Lib\\site-packages\\selenium\\webdriver\\remote\\webelement.py:395\u001b[0m, in \u001b[0;36mWebElement._execute\u001b[1;34m(self, command, params)\u001b[0m\n\u001b[0;32m    393\u001b[0m     params \u001b[38;5;241m=\u001b[39m {}\n\u001b[0;32m    394\u001b[0m params[\u001b[38;5;124m\"\u001b[39m\u001b[38;5;124mid\u001b[39m\u001b[38;5;124m\"\u001b[39m] \u001b[38;5;241m=\u001b[39m \u001b[38;5;28mself\u001b[39m\u001b[38;5;241m.\u001b[39m_id\n\u001b[1;32m--> 395\u001b[0m \u001b[38;5;28;01mreturn\u001b[39;00m \u001b[38;5;28mself\u001b[39m\u001b[38;5;241m.\u001b[39m_parent\u001b[38;5;241m.\u001b[39mexecute(command, params)\n",
      "File \u001b[1;32m~\\anaconda3\\Lib\\site-packages\\selenium\\webdriver\\remote\\webdriver.py:348\u001b[0m, in \u001b[0;36mWebDriver.execute\u001b[1;34m(self, driver_command, params)\u001b[0m\n\u001b[0;32m    346\u001b[0m response \u001b[38;5;241m=\u001b[39m \u001b[38;5;28mself\u001b[39m\u001b[38;5;241m.\u001b[39mcommand_executor\u001b[38;5;241m.\u001b[39mexecute(driver_command, params)\n\u001b[0;32m    347\u001b[0m \u001b[38;5;28;01mif\u001b[39;00m response:\n\u001b[1;32m--> 348\u001b[0m     \u001b[38;5;28mself\u001b[39m\u001b[38;5;241m.\u001b[39merror_handler\u001b[38;5;241m.\u001b[39mcheck_response(response)\n\u001b[0;32m    349\u001b[0m     response[\u001b[38;5;124m\"\u001b[39m\u001b[38;5;124mvalue\u001b[39m\u001b[38;5;124m\"\u001b[39m] \u001b[38;5;241m=\u001b[39m \u001b[38;5;28mself\u001b[39m\u001b[38;5;241m.\u001b[39m_unwrap_value(response\u001b[38;5;241m.\u001b[39mget(\u001b[38;5;124m\"\u001b[39m\u001b[38;5;124mvalue\u001b[39m\u001b[38;5;124m\"\u001b[39m, \u001b[38;5;28;01mNone\u001b[39;00m))\n\u001b[0;32m    350\u001b[0m     \u001b[38;5;28;01mreturn\u001b[39;00m response\n",
      "File \u001b[1;32m~\\anaconda3\\Lib\\site-packages\\selenium\\webdriver\\remote\\errorhandler.py:229\u001b[0m, in \u001b[0;36mErrorHandler.check_response\u001b[1;34m(self, response)\u001b[0m\n\u001b[0;32m    227\u001b[0m         alert_text \u001b[38;5;241m=\u001b[39m value[\u001b[38;5;124m\"\u001b[39m\u001b[38;5;124malert\u001b[39m\u001b[38;5;124m\"\u001b[39m]\u001b[38;5;241m.\u001b[39mget(\u001b[38;5;124m\"\u001b[39m\u001b[38;5;124mtext\u001b[39m\u001b[38;5;124m\"\u001b[39m)\n\u001b[0;32m    228\u001b[0m     \u001b[38;5;28;01mraise\u001b[39;00m exception_class(message, screen, stacktrace, alert_text)  \u001b[38;5;66;03m# type: ignore[call-arg]  # mypy is not smart enough here\u001b[39;00m\n\u001b[1;32m--> 229\u001b[0m \u001b[38;5;28;01mraise\u001b[39;00m exception_class(message, screen, stacktrace)\n",
      "\u001b[1;31mElementNotInteractableException\u001b[0m: Message: element not interactable\n  (Session info: chrome=120.0.6099.129)\nStacktrace:\n\tGetHandleVerifier [0x00007FF6FF912142+3514994]\n\t(No symbol) [0x00007FF6FF530CE2]\n\t(No symbol) [0x00007FF6FF3D74C3]\n\t(No symbol) [0x00007FF6FF422D29]\n\t(No symbol) [0x00007FF6FF416A0F]\n\t(No symbol) [0x00007FF6FF445FEA]\n\t(No symbol) [0x00007FF6FF4163B6]\n\t(No symbol) [0x00007FF6FF446490]\n\t(No symbol) [0x00007FF6FF4628F6]\n\t(No symbol) [0x00007FF6FF445D93]\n\t(No symbol) [0x00007FF6FF414BDC]\n\t(No symbol) [0x00007FF6FF415C64]\n\tGetHandleVerifier [0x00007FF6FF93E16B+3695259]\n\tGetHandleVerifier [0x00007FF6FF996737+4057191]\n\tGetHandleVerifier [0x00007FF6FF98E4E3+4023827]\n\tGetHandleVerifier [0x00007FF6FF6604F9+689705]\n\t(No symbol) [0x00007FF6FF53C048]\n\t(No symbol) [0x00007FF6FF538044]\n\t(No symbol) [0x00007FF6FF5381C9]\n\t(No symbol) [0x00007FF6FF5288C4]\n\tBaseThreadInitThunk [0x00007FF947127344+20]\n\tRtlUserThreadStart [0x00007FF948F426B1+33]\n"
     ]
    }
   ],
   "source": [
    "# 더보기를 반복실행\n",
    "for i in range(100) :\n",
    "    btn = driver.find_element(By.CSS_SELECTOR,\"#btn_more > span > a\")\n",
    "    btn.click()"
   ]
  },
  {
   "cell_type": "markdown",
   "id": "e651b1bc",
   "metadata": {},
   "source": [
    "# 예외처리 try,except\n",
    "- try : 에러가 나기 전까지 실행할 코드의 영역\n",
    "- except : 에러가 났을때 실행할 코드의 영역"
   ]
  },
  {
   "cell_type": "markdown",
   "id": "0f9cd19f",
   "metadata": {},
   "source": [
    "## time 라이브러리\n",
    "- 코드 중간중간 쉬는 시간을 부여해주는 라이브러리\n",
    "- 사람답게 코드를 짜기 위해서 사용\n",
    "- 클라이언트와 서버간에 데이터 통신시간을 부여해주기 위한 역할"
   ]
  },
  {
   "cell_type": "code",
   "execution_count": 18,
   "id": "315d3509",
   "metadata": {},
   "outputs": [],
   "source": [
    "import time"
   ]
  },
  {
   "cell_type": "code",
   "execution_count": 19,
   "id": "0ab138e7",
   "metadata": {},
   "outputs": [
    {
     "name": "stdout",
     "output_type": "stream",
     "text": [
      "더보기 완료\n"
     ]
    }
   ],
   "source": [
    "try :\n",
    "    for i in range(100) :\n",
    "        btn = driver.find_element(By.CSS_SELECTOR,\"#btn_more > span > a\")\n",
    "        btn.click()\n",
    "        time.sleep(1)\n",
    "        \n",
    "except :\n",
    "    print(\"더보기 완료\")"
   ]
  },
  {
   "cell_type": "code",
   "execution_count": 20,
   "id": "808fb7b0",
   "metadata": {},
   "outputs": [],
   "source": [
    "# 화면구성이 완료가 된 후에, 데이터 수집을 진행할 것!\n",
    "title = driver.find_elements(By.CSS_SELECTOR,\"div > div.item-text > h4\")\n",
    "price = driver.find_elements(By.CSS_SELECTOR,\"div > div.item-text > div > strong\")"
   ]
  },
  {
   "cell_type": "code",
   "execution_count": 21,
   "id": "a6abf9b5",
   "metadata": {},
   "outputs": [
    {
     "data": {
      "text/plain": [
       "101"
      ]
     },
     "execution_count": 21,
     "metadata": {},
     "output_type": "execute_result"
    }
   ],
   "source": [
    "len(title)"
   ]
  },
  {
   "cell_type": "code",
   "execution_count": 22,
   "id": "99c0b7e9",
   "metadata": {},
   "outputs": [],
   "source": [
    "# 비어있는 리스트에 가격,상품명의 텍스트 정보만 저장\n",
    "title_list = []\n",
    "price_list = []\n",
    "for i in range(len(title)) :\n",
    "    title_list.append(title[i].text)\n",
    "    price_list.append(price[i].text)"
   ]
  },
  {
   "cell_type": "code",
   "execution_count": 24,
   "id": "0377c927",
   "metadata": {},
   "outputs": [],
   "source": [
    "# 데이터프레임\n",
    "dic = {\"상품명\" : title_list, \"가격\" : price_list}\n",
    "hansot = pd.DataFrame(dic)"
   ]
  },
  {
   "cell_type": "code",
   "execution_count": 25,
   "id": "c151e5c9",
   "metadata": {},
   "outputs": [],
   "source": [
    "# csv파일로 저장(한글 인코딩)\n",
    "hansot.to_csv(\"한솥.csv\",encoding=\"euc-kr\")"
   ]
  },
  {
   "cell_type": "code",
   "execution_count": 26,
   "id": "ba8e0863",
   "metadata": {},
   "outputs": [
    {
     "name": "stdout",
     "output_type": "stream",
     "text": [
      "더보기 완료\n"
     ]
    }
   ],
   "source": [
    "# 코드 통합\n",
    "driver = wb.Chrome()\n",
    "driver.get(\"https://www.hsd.co.kr/menu/menu_list\")\n",
    "time.sleep(2)\n",
    "try :\n",
    "    for i in range(100) :\n",
    "        btn = driver.find_element(By.CSS_SELECTOR,\"#btn_more > span > a\")\n",
    "        btn.click()\n",
    "        time.sleep(1)\n",
    "        \n",
    "except :\n",
    "    print(\"더보기 완료\")\n",
    "\n",
    "title = driver.find_elements(By.CSS_SELECTOR,\"div > div.item-text > h4\")\n",
    "price = driver.find_elements(By.CSS_SELECTOR,\"div > div.item-text > div > strong\")\n",
    "\n",
    "title_list = []\n",
    "price_list = []\n",
    "for i in range(len(title)) :\n",
    "    title_list.append(title[i].text)\n",
    "    price_list.append(price[i].text)\n",
    "\n",
    "dic = {\"상품명\" : title_list, \"가격\" : price_list}\n",
    "hansot = pd.DataFrame(dic)\n",
    "hansot.to_csv(\"한솥.csv\",encoding=\"euc-kr\")\n",
    "\n",
    "driver.close()"
   ]
  },
  {
   "cell_type": "markdown",
   "id": "640d5a3b",
   "metadata": {},
   "source": [
    "## 쉬는시간 부여 방법 2가지\n",
    "- time.sleep(10) = 지정한 시간만큼 코드가 정지\n",
    "- driver.implicitlywait(10) = 지정한 시간만큼 코드가 정지는 하지만, 응답이 완료가 되면 나머지 시간을 버린다.\n",
    "- 주의점 : 네트워크 환경이 좋지 않은 경우에는 오류가 발생할 수 있음"
   ]
  }
 ],
 "metadata": {
  "kernelspec": {
   "display_name": "Python 3 (ipykernel)",
   "language": "python",
   "name": "python3"
  },
  "language_info": {
   "codemirror_mode": {
    "name": "ipython",
    "version": 3
   },
   "file_extension": ".py",
   "mimetype": "text/x-python",
   "name": "python",
   "nbconvert_exporter": "python",
   "pygments_lexer": "ipython3",
   "version": "3.11.5"
  }
 },
 "nbformat": 4,
 "nbformat_minor": 5
}
