{
 "cells": [
  {
   "cell_type": "code",
   "execution_count": 1,
   "id": "26481b3b",
   "metadata": {},
   "outputs": [],
   "source": [
    "from selenium import webdriver as wb\n",
    "from selenium.webdriver.common.by import By\n",
    "import pandas as pd"
   ]
  },
  {
   "cell_type": "code",
   "execution_count": 2,
   "id": "6c11770e",
   "metadata": {},
   "outputs": [],
   "source": [
    "# 1. 한솥도시락 사이트를 요청\n",
    "driver = wb.Chrome()\n",
    "driver.get(\"https://www.hsd.co.kr/menu/menu_list\")"
   ]
  },
  {
   "cell_type": "code",
   "execution_count": 3,
   "id": "85968987",
   "metadata": {},
   "outputs": [],
   "source": [
    "# 상품명을 수집\n",
    "title = driver.find_elements(By.CSS_SELECTOR, \"div > div.item-text > h4\")"
   ]
  },
  {
   "cell_type": "code",
   "execution_count": 4,
   "id": "7a8521db",
   "metadata": {},
   "outputs": [],
   "source": [
    "# 상품가격을 수집\n",
    "price = driver.find_elements(By.CSS_SELECTOR, \"div > div.item-text > div > span\")"
   ]
  },
  {
   "cell_type": "code",
   "execution_count": 5,
   "id": "9698a672",
   "metadata": {},
   "outputs": [
    {
     "data": {
      "text/plain": [
       "68"
      ]
     },
     "execution_count": 5,
     "metadata": {},
     "output_type": "execute_result"
    }
   ],
   "source": [
    "# 데이터의 개수가 정해진 경우에는, 반드시 개수를 검증\n",
    "len(title)"
   ]
  },
  {
   "cell_type": "code",
   "execution_count": 6,
   "id": "159ec1bd",
   "metadata": {},
   "outputs": [],
   "source": [
    "# 완벽한 데이터를 로딩 하기 위해서, 더보기 버튼을 클릭\n",
    "btn = driver.find_element(By.CSS_SELECTOR, \"#btn_more > span > a\")\n",
    "btn.click()"
   ]
  },
  {
   "cell_type": "code",
   "execution_count": 9,
   "id": "04d747e8",
   "metadata": {},
   "outputs": [],
   "source": [
    "# 더보기를 반복실행\n",
    "for i in range(100) :\n",
    "    btn = driver.find_element(By.CSS_SELECTOR, \"#btn_more > span > a\")\n",
    "    btn.click()"
   ]
  },
  {
   "cell_type": "markdown",
   "id": "3a489ac6",
   "metadata": {},
   "source": [
    "# 예외처리\n",
    " - try : 에러가 나기 전까지 실행할 코드의 영역\n",
    " - except : 에러가 났을때 실행할 코드의 영역"
   ]
  },
  {
   "cell_type": "markdown",
   "id": "ba7f4a4a",
   "metadata": {},
   "source": [
    "## time 라이브러리\n",
    " - 코드 중간중간 쉬는 시간을 부여해주는 라이브러리\n",
    " - 사람답게 코드를 짜기 위해서 사용\n",
    " - 클라이언트와 서버간에 데이터 통신시간을 부여해주기 위한 역할"
   ]
  },
  {
   "cell_type": "code",
   "execution_count": 10,
   "id": "88301b7f",
   "metadata": {},
   "outputs": [],
   "source": [
    "import time"
   ]
  },
  {
   "cell_type": "code",
   "execution_count": 11,
   "id": "fd68ea65",
   "metadata": {},
   "outputs": [
    {
     "name": "stdout",
     "output_type": "stream",
     "text": [
      "더보기 완료\n"
     ]
    }
   ],
   "source": [
    "try :\n",
    "    for i in range(100) :\n",
    "        btn = driver.find_element(By.CSS_SELECTOR, \"#btn_more > span > a\")\n",
    "        btn.click()\n",
    "        time.sleep(1)\n",
    "except :\n",
    "    print(\"더보기 완료\")"
   ]
  },
  {
   "cell_type": "code",
   "execution_count": 12,
   "id": "564d806c",
   "metadata": {},
   "outputs": [],
   "source": [
    "title = driver.find_elements(By.CSS_SELECTOR, \"div > div.item-text > h4\")\n",
    "price = driver.find_elements(By.CSS_SELECTOR, \"div > div.item-text > div > strong\")"
   ]
  },
  {
   "cell_type": "code",
   "execution_count": 13,
   "id": "1a824fff",
   "metadata": {},
   "outputs": [
    {
     "data": {
      "text/plain": [
       "101"
      ]
     },
     "execution_count": 13,
     "metadata": {},
     "output_type": "execute_result"
    }
   ],
   "source": [
    "len(title)"
   ]
  },
  {
   "cell_type": "code",
   "execution_count": 14,
   "id": "0d650e8e",
   "metadata": {},
   "outputs": [
    {
     "data": {
      "text/plain": [
       "['얼큰 소고기국밥',\n",
       " '얼큰 해물국밥',\n",
       " '햄버그 나폴리탄 스파게티',\n",
       " '메가 햄버그 나폴리탄 스파게티',\n",
       " '[반찬] 얼큰 소고기국밥',\n",
       " '[반찬] 얼큰 해물국밥',\n",
       " '핫 치킨마요 볶음면',\n",
       " '오리지널 치킨마요 볶음면',\n",
       " '식물성 제육볶음밥',\n",
       " '송정식 떡갈비',\n",
       " '[착한도시락]페루 찬차마요 드립백 커피',\n",
       " '해바라기',\n",
       " '매화',\n",
       " '진달래',\n",
       " '개나리',\n",
       " '돈까스도련님 고기고기',\n",
       " '탕수육도련님 고기고기',\n",
       " '새치 고기고기',\n",
       " '돈치 고기고기',\n",
       " '카츠카츠',\n",
       " '숯불직화구이',\n",
       " '소불고기',\n",
       " '메가치킨제육',\n",
       " '칠리 찹쌀탕수육도련님',\n",
       " '동백',\n",
       " '치킨제육',\n",
       " '돈까스도련님',\n",
       " '제육볶음',\n",
       " '돈치스팸',\n",
       " '제육 김치찌개 정식',\n",
       " '제육 김치 부대찌개 정식',\n",
       " '돈치스팸 김치 부대찌개 정식',\n",
       " '빅치킨마요 김치 부대찌개 정식',\n",
       " '치킨마요 김치 부대찌개 정식',\n",
       " '빅치킨마요 김치찌개 정식',\n",
       " '치킨마요 김치찌개 정식',\n",
       " '빅새치마요',\n",
       " '새치마요',\n",
       " '메가스팸마요',\n",
       " '스팸마요',\n",
       " '메가치킨마요',\n",
       " '왕치킨마요',\n",
       " '빅치킨마요',\n",
       " '치킨마요',\n",
       " '참치마요',\n",
       " '돈치마요',\n",
       " '돈까스 카레',\n",
       " '잡채볶음밥(중화풍 매운맛)',\n",
       " '잡채볶음밥(오리지널)',\n",
       " '스팸 김치볶음밥',\n",
       " '김치볶음밥',\n",
       " '스팸 철판볶음밥',\n",
       " '소불고기 철판볶음밥',\n",
       " '나시고랭',\n",
       " '묵은지 김치찌개',\n",
       " '김치 부대찌개',\n",
       " '핫 치즈 닭갈비덮밥',\n",
       " '오리지널 치즈 닭갈비덮밥',\n",
       " '숯불직화구이 덮밥',\n",
       " '마파두부 덮밥',\n",
       " '왕카레돈까스덮밥',\n",
       " '새우돈까스 덮밥',\n",
       " '돈까스 덮밥',\n",
       " '아보카도 소불고기 명란 비빔밥',\n",
       " '소불고기 감초고추장 비빔밥',\n",
       " '시골제육 두부강된장 비빔밥',\n",
       " '참치야채 감초고추장 비빔밥',\n",
       " '튼튼도시락',\n",
       " '반찬 묵은지김치찌개',\n",
       " '반찬 카레',\n",
       " '반찬 순살 고등어 간장구이',\n",
       " '반찬 김치 부대찌개',\n",
       " '반찬 치킨',\n",
       " '반찬 고기고기',\n",
       " '반찬 돈까스도련님',\n",
       " '반찬 제육볶음',\n",
       " '반찬 토네이도 소세지',\n",
       " '반찬 돈까스',\n",
       " '치즈버터 해시 포테이토 스틱',\n",
       " '허니버터 해시 포테이토 스틱',\n",
       " '해시 포테이토 스틱',\n",
       " '뉴 감자고로케',\n",
       " '미니 찹쌀핫도그',\n",
       " '미니 찹쌀탕수육',\n",
       " '케이준후라이',\n",
       " '통현미 닭강정(소)',\n",
       " '통현미 닭강정(중)',\n",
       " '후라이드 순살(중)',\n",
       " '후라이드 순살(소)_양념치킨소스',\n",
       " '후라이드 순살(소)_케이준소스',\n",
       " '3종 미니반찬B',\n",
       " '3종 미니반찬A',\n",
       " '오징어젓갈',\n",
       " '한솥 두부강된장소스',\n",
       " '한솥 감초볶음고추장소스',\n",
       " '볶음김치',\n",
       " '김치',\n",
       " '무말랭이 무침',\n",
       " '한솥밥',\n",
       " '현미밥',\n",
       " '리얼꿀 미니호떡']"
      ]
     },
     "execution_count": 14,
     "metadata": {},
     "output_type": "execute_result"
    }
   ],
   "source": [
    "# 비어있는 리스트에 가격, 상품명의 텍스트 정보만 저장\n",
    "# for i in title :\n",
    "#     print(i.text)\n",
    "titles = [i.text for i in title]\n",
    "titles"
   ]
  },
  {
   "cell_type": "code",
   "execution_count": 15,
   "id": "c380d182",
   "metadata": {},
   "outputs": [
    {
     "data": {
      "text/plain": [
       "['6,700',\n",
       " '6,700',\n",
       " '4,900',\n",
       " '8,500',\n",
       " '5,000',\n",
       " '5,000',\n",
       " '4,500',\n",
       " '4,500',\n",
       " '4,900',\n",
       " '6,900',\n",
       " '1,500',\n",
       " '10,000',\n",
       " '10,500',\n",
       " '7,800',\n",
       " '8,500',\n",
       " '6,500',\n",
       " '6,000',\n",
       " '7,000',\n",
       " '6,000',\n",
       " '4,800',\n",
       " '6,600',\n",
       " '5,500',\n",
       " '7,500',\n",
       " '4,400',\n",
       " '6,000',\n",
       " '4,900',\n",
       " '4,800',\n",
       " '4,500',\n",
       " '5,000',\n",
       " '8,600',\n",
       " '9,000',\n",
       " '9,000',\n",
       " '8,000',\n",
       " '7,400',\n",
       " '7,500',\n",
       " '6,900',\n",
       " '4,600',\n",
       " '4,000',\n",
       " '5,800',\n",
       " '3,900',\n",
       " '6,000',\n",
       " '5,000',\n",
       " '4,300',\n",
       " '3,700',\n",
       " '3,500',\n",
       " '4,000',\n",
       " '4,700',\n",
       " '5,500',\n",
       " '5,300',\n",
       " '4,700',\n",
       " '3,900',\n",
       " '4,700',\n",
       " '4,900',\n",
       " '6,200',\n",
       " '4,900',\n",
       " '6,000',\n",
       " '5,900',\n",
       " '5,900',\n",
       " '6,000',\n",
       " '5,000',\n",
       " '6,000',\n",
       " '4,200',\n",
       " '4,100',\n",
       " '6,500',\n",
       " '5,400',\n",
       " '5,200',\n",
       " '3,500',\n",
       " '5,000',\n",
       " '4,400',\n",
       " '2,900',\n",
       " '3,900',\n",
       " '4,900',\n",
       " '3,800',\n",
       " '3,600',\n",
       " '4,100',\n",
       " '3,500',\n",
       " '3,200',\n",
       " '2,900',\n",
       " '2,200',\n",
       " '2,200',\n",
       " '2,000',\n",
       " '2,700',\n",
       " '2,800',\n",
       " '2,200',\n",
       " '1,900',\n",
       " '3,500',\n",
       " '8,500',\n",
       " '7,500',\n",
       " '4,000',\n",
       " '4,000',\n",
       " '1,300',\n",
       " '1,300',\n",
       " '600',\n",
       " '1,800',\n",
       " '500',\n",
       " '500',\n",
       " '400',\n",
       " '500',\n",
       " '1,000',\n",
       " '1,700',\n",
       " '2,200']"
      ]
     },
     "execution_count": 15,
     "metadata": {},
     "output_type": "execute_result"
    }
   ],
   "source": [
    "# for i in price :\n",
    "#     print(i.text)\n",
    "prices = [i.text for i in price]\n",
    "prices"
   ]
  },
  {
   "cell_type": "code",
   "execution_count": 16,
   "id": "2bd0eed4",
   "metadata": {},
   "outputs": [
    {
     "data": {
      "text/html": [
       "<div>\n",
       "<style scoped>\n",
       "    .dataframe tbody tr th:only-of-type {\n",
       "        vertical-align: middle;\n",
       "    }\n",
       "\n",
       "    .dataframe tbody tr th {\n",
       "        vertical-align: top;\n",
       "    }\n",
       "\n",
       "    .dataframe thead th {\n",
       "        text-align: right;\n",
       "    }\n",
       "</style>\n",
       "<table border=\"1\" class=\"dataframe\">\n",
       "  <thead>\n",
       "    <tr style=\"text-align: right;\">\n",
       "      <th></th>\n",
       "      <th>이름</th>\n",
       "      <th>가격</th>\n",
       "    </tr>\n",
       "  </thead>\n",
       "  <tbody>\n",
       "    <tr>\n",
       "      <th>0</th>\n",
       "      <td>얼큰 소고기국밥</td>\n",
       "      <td>6,700</td>\n",
       "    </tr>\n",
       "    <tr>\n",
       "      <th>1</th>\n",
       "      <td>얼큰 해물국밥</td>\n",
       "      <td>6,700</td>\n",
       "    </tr>\n",
       "    <tr>\n",
       "      <th>2</th>\n",
       "      <td>햄버그 나폴리탄 스파게티</td>\n",
       "      <td>4,900</td>\n",
       "    </tr>\n",
       "    <tr>\n",
       "      <th>3</th>\n",
       "      <td>메가 햄버그 나폴리탄 스파게티</td>\n",
       "      <td>8,500</td>\n",
       "    </tr>\n",
       "    <tr>\n",
       "      <th>4</th>\n",
       "      <td>[반찬] 얼큰 소고기국밥</td>\n",
       "      <td>5,000</td>\n",
       "    </tr>\n",
       "    <tr>\n",
       "      <th>...</th>\n",
       "      <td>...</td>\n",
       "      <td>...</td>\n",
       "    </tr>\n",
       "    <tr>\n",
       "      <th>96</th>\n",
       "      <td>김치</td>\n",
       "      <td>400</td>\n",
       "    </tr>\n",
       "    <tr>\n",
       "      <th>97</th>\n",
       "      <td>무말랭이 무침</td>\n",
       "      <td>500</td>\n",
       "    </tr>\n",
       "    <tr>\n",
       "      <th>98</th>\n",
       "      <td>한솥밥</td>\n",
       "      <td>1,000</td>\n",
       "    </tr>\n",
       "    <tr>\n",
       "      <th>99</th>\n",
       "      <td>현미밥</td>\n",
       "      <td>1,700</td>\n",
       "    </tr>\n",
       "    <tr>\n",
       "      <th>100</th>\n",
       "      <td>리얼꿀 미니호떡</td>\n",
       "      <td>2,200</td>\n",
       "    </tr>\n",
       "  </tbody>\n",
       "</table>\n",
       "<p>101 rows × 2 columns</p>\n",
       "</div>"
      ],
      "text/plain": [
       "                   이름     가격\n",
       "0            얼큰 소고기국밥  6,700\n",
       "1             얼큰 해물국밥  6,700\n",
       "2       햄버그 나폴리탄 스파게티  4,900\n",
       "3    메가 햄버그 나폴리탄 스파게티  8,500\n",
       "4       [반찬] 얼큰 소고기국밥  5,000\n",
       "..                ...    ...\n",
       "96                 김치    400\n",
       "97            무말랭이 무침    500\n",
       "98                한솥밥  1,000\n",
       "99                현미밥  1,700\n",
       "100          리얼꿀 미니호떡  2,200\n",
       "\n",
       "[101 rows x 2 columns]"
      ]
     },
     "execution_count": 16,
     "metadata": {},
     "output_type": "execute_result"
    }
   ],
   "source": [
    "# 데이터 프레임\n",
    "dic = {'이름' : titles , '가격' : prices}\n",
    "hansot = pd.DataFrame(dic)\n",
    "hansot"
   ]
  },
  {
   "cell_type": "code",
   "execution_count": 17,
   "id": "33a33102",
   "metadata": {},
   "outputs": [],
   "source": [
    "# csv파일로 저장(한글 인코딩)\n",
    "hansot.to_csv('hansot_menu_all.csv', encoding='utf-8')"
   ]
  },
  {
   "cell_type": "code",
   "execution_count": null,
   "id": "bb94d291",
   "metadata": {},
   "outputs": [],
   "source": [
    "# 데이터프레임\n",
    "dic = {\"상품명\" : title_list, \"가격\" : price_list}\n",
    "hansot = pd.DantaFrame(dic)"
   ]
  },
  {
   "cell_type": "code",
   "execution_count": null,
   "id": "3eca591e",
   "metadata": {},
   "outputs": [],
   "source": [
    "# csv파일로 저장(한글 인코딩)\n",
    "hansot.to_csv(\"한솥.csv\", encoding=\"euc-kr\")"
   ]
  },
  {
   "cell_type": "code",
   "execution_count": null,
   "id": "c8969380",
   "metadata": {},
   "outputs": [],
   "source": [
    "driver = wb.Chrome()\n",
    "driver.get(\"https://www.hsd.co.kr/menu/menu_list\")\n",
    "\n",
    "try :\n",
    "    for i in range(15) :\n",
    "        btn = driver.find_element(By.CSS_SELECTOR,\".c_05\")\n",
    "        btn.click()\n",
    "\n",
    "except :\n",
    "    print(\"더보기가 없습니다~\")\n",
    "\n",
    "title = driver.find_elements(By.CSS_SELECTOR,\".h.fz_03\")\n",
    "price = driver.find_elements(By.CSS_SELECTOR,\"div > div.item-text > div > strong\")\n",
    "\n",
    "title_list = []\n",
    "price_list = []\n",
    "for i in range(len(title)) :\n",
    "    title_list.append(title[i].text)\n",
    "    price_list.append(price[i].text)\n",
    "    \n",
    "dic = {\"상품명\" : title_list, \"가격\" : price_list}\n",
    "pd.DataFrame(dic)\n",
    "hansot = pd.DataFrame(dic)\n",
    "hansot.to_csv(\"한솥.csv\", encoding=\"euc-kr\")\n",
    "\n",
    "driver.close()"
   ]
  },
  {
   "cell_type": "markdown",
   "id": "3cd8f211",
   "metadata": {},
   "source": [
    "## 쉬는시간 부여 방법 2가지\n",
    " - time.sleep(10) = 지정한 시간만큼 코드가 정지\n",
    " - driver.implicitlywait(10) = 지정한 시간만큼 코드가 정지는하지만, 응답이 완료가 되면 나머지 시간을 버린다.\n",
    " - 주의점 : 네트워크 환경이 좋지 않은 경우에는 오류가 발생할 수 있음"
   ]
  },
  {
   "cell_type": "code",
   "execution_count": null,
   "id": "be9e2919",
   "metadata": {},
   "outputs": [],
   "source": []
  },
  {
   "cell_type": "code",
   "execution_count": null,
   "id": "f5575027",
   "metadata": {},
   "outputs": [],
   "source": []
  },
  {
   "cell_type": "code",
   "execution_count": null,
   "id": "e62878c7",
   "metadata": {},
   "outputs": [],
   "source": []
  }
 ],
 "metadata": {
  "kernelspec": {
   "display_name": "Python 3 (ipykernel)",
   "language": "python",
   "name": "python3"
  },
  "language_info": {
   "codemirror_mode": {
    "name": "ipython",
    "version": 3
   },
   "file_extension": ".py",
   "mimetype": "text/x-python",
   "name": "python",
   "nbconvert_exporter": "python",
   "pygments_lexer": "ipython3",
   "version": "3.11.5"
  }
 },
 "nbformat": 4,
 "nbformat_minor": 5
}
