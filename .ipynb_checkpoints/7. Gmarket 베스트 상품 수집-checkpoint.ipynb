{
 "cells": [
  {
   "cell_type": "code",
   "execution_count": 1,
   "id": "af9d1cbc",
   "metadata": {},
   "outputs": [],
   "source": [
    "from selenium import webdriver as wb\n",
    "from selenium.webdriver.common.by import By\n",
    "import time"
   ]
  },
  {
   "cell_type": "code",
   "execution_count": 2,
   "id": "ace1a4b8",
   "metadata": {},
   "outputs": [],
   "source": [
    "driver = wb.Chrome()\n",
    "driver.get(\"https://www.gmarket.co.kr/n/best\")"
   ]
  },
  {
   "cell_type": "code",
   "execution_count": 5,
   "id": "61081c9e",
   "metadata": {},
   "outputs": [
    {
     "data": {
      "text/plain": [
       "1"
      ]
     },
     "execution_count": 5,
     "metadata": {},
     "output_type": "execute_result"
    }
   ],
   "source": [
    "# 1. 클릭할 상품리스트 수집\n",
    "img = driver.find_elements(By.CSS_SELECTOR, \"#gBestWrap > div.best-list > ul > li:nth-child(1) > div.thumb > a > img\")\n",
    "len(img)"
   ]
  },
  {
   "cell_type": "code",
   "execution_count": 6,
   "id": "7f7881cf",
   "metadata": {},
   "outputs": [],
   "source": [
    "# 2. 첫번째 상품 클릭\n",
    "img[0].click()"
   ]
  },
  {
   "cell_type": "code",
   "execution_count": 10,
   "id": "56d9c39c",
   "metadata": {},
   "outputs": [],
   "source": [
    "# 3. 상품명, 가격 수집\n",
    "title = driver.find_element(By.CSS_SELECTOR, \"#itemcase_basic > div > h1\")\n",
    "price = driver.find_element(By.CSS_SELECTOR, \"#itemcase_basic > div > h1\")"
   ]
  },
  {
   "cell_type": "code",
   "execution_count": 12,
   "id": "f3fe511d",
   "metadata": {},
   "outputs": [],
   "source": [
    "# 4. 뒤로가기\n",
    "driver.back()"
   ]
  },
  {
   "cell_type": "code",
   "execution_count": null,
   "id": "94135d8f",
   "metadata": {},
   "outputs": [],
   "source": [
    "driver = wb.Chrome()\n",
    "driver.get(\"https://www.gmarket.co.kr/n/best\")\n",
    "time.sleep(2)\n",
    "\n",
    "# 5. 반복해서 실행 코드\n",
    "title_list = []\n",
    "price_list = []\n",
    "\n",
    "for i in range(5):\n",
    "    img = driver.find_elements(By.CSS_SELECTOR, \"#gBestWrap > div.best-list > ul > li > div.thumb > a > img\")\n",
    "    img[i].click()\n",
    "    time.sleep(2)\n",
    "    title = driver.find_element(By.CSS_SELECTOR, \"#itemcase_basic > div > h1\")\n",
    "    try :\n",
    "        driver.find_element(By.CSS_SELECTOR, \"#itemcase_basic > div > div.price > span.price_innerwrap.price_innerwrap-coupon > strong\")\n",
    "    except :\n",
    "        price = driver.find_element(By.CSS_SELECTOR, \"#itemcase_basic > div > div.price > span.price_innerwrap > strong\")\n",
    "    \n",
    "    title_list.append(title.text)\n",
    "    price_list.append(price.text)\n",
    "    driver.back()\n",
    "    time.sleep(2)\n",
    "    \n",
    "driver.close()"
   ]
  },
  {
   "cell_type": "markdown",
   "id": "c82d984d",
   "metadata": {},
   "source": [
    "# 크롤링 하는 프로세스\n",
    "- 1. 데이터 요청단계 ex) req.get(), driver.get()\n",
    "- 2. 데이터 준비단계 ex) req -> bs만들어주기 / driver -> 데이터 로딩(더보기, 스크롤 이동)\n",
    "- 3. 데이터 수집단계 ex) select, find_element + 검증 + 데이터 정제(텍스트)\n",
    "- 4. 데이터 활용단계 ex) DF, CSV, HTML, DB 저장\n",
    "* 중요한점 : 사람답게 코딩을 작성해라 -> time.sleep을 적절하게 사용\n",
    "* 반복문을 작성할 때는, 반드시 완벽한 하나의 코드사이클을 작성하고 반복문으로 묶어라"
   ]
  },
  {
   "cell_type": "code",
   "execution_count": null,
   "id": "3406c495",
   "metadata": {},
   "outputs": [],
   "source": []
  }
 ],
 "metadata": {
  "kernelspec": {
   "display_name": "Python 3 (ipykernel)",
   "language": "python",
   "name": "python3"
  },
  "language_info": {
   "codemirror_mode": {
    "name": "ipython",
    "version": 3
   },
   "file_extension": ".py",
   "mimetype": "text/x-python",
   "name": "python",
   "nbconvert_exporter": "python",
   "pygments_lexer": "ipython3",
   "version": "3.11.5"
  }
 },
 "nbformat": 4,
 "nbformat_minor": 5
}
