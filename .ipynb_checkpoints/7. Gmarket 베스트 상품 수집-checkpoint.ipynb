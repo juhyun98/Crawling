{
 "cells": [
  {
   "cell_type": "code",
   "execution_count": 1,
   "id": "40e80bac",
   "metadata": {},
   "outputs": [],
   "source": [
    "from selenium import webdriver as wb\n",
    "from selenium.webdriver.common.by import By\n",
    "import time"
   ]
  },
  {
   "cell_type": "code",
   "execution_count": 2,
   "id": "ea0e2eb6",
   "metadata": {},
   "outputs": [],
   "source": [
    "driver = wb.Chrome()\n",
    "driver.get(\"https://www.gmarket.co.kr/n/best\")"
   ]
  },
  {
   "cell_type": "code",
   "execution_count": 3,
   "id": "11c9ded3",
   "metadata": {},
   "outputs": [
    {
     "data": {
      "text/plain": [
       "200"
      ]
     },
     "execution_count": 3,
     "metadata": {},
     "output_type": "execute_result"
    }
   ],
   "source": [
    "# 1. 클릭할 상품리스트 수집\n",
    "img = driver.find_elements(By.CSS_SELECTOR,\"#gBestWrap > div.best-list > ul > li > div.thumb > a > img\")\n",
    "len(img)"
   ]
  },
  {
   "cell_type": "code",
   "execution_count": 4,
   "id": "b83d4962",
   "metadata": {},
   "outputs": [],
   "source": [
    "# 2. 첫번째 상품 클릭\n",
    "img[0].click()"
   ]
  },
  {
   "cell_type": "code",
   "execution_count": 5,
   "id": "b7bb8b50",
   "metadata": {},
   "outputs": [],
   "source": [
    "# 3. 상품명, 가격 수집\n",
    "title = driver.find_element(By.CSS_SELECTOR,\"#itemcase_basic > div > h1\")\n",
    "price = driver.find_element(By.CSS_SELECTOR,\"#itemcase_basic > div > div.price > span.price_innerwrap > strong\")"
   ]
  },
  {
   "cell_type": "code",
   "execution_count": 6,
   "id": "5f03524e",
   "metadata": {},
   "outputs": [],
   "source": [
    "# 4. 뒤로가기\n",
    "driver.back()"
   ]
  },
  {
   "cell_type": "code",
   "execution_count": 7,
   "id": "509d9adc",
   "metadata": {},
   "outputs": [],
   "source": [
    "driver = wb.Chrome()\n",
    "driver.get(\"https://www.gmarket.co.kr/n/best\")\n",
    "time.sleep(2)\n",
    "# 5. 반복해서 실행 코드\n",
    "title_list = []\n",
    "price_list = []\n",
    "for i in range(5) :\n",
    "    img = driver.find_elements(By.CSS_SELECTOR,\"#gBestWrap > div.best-list > ul > li > div.thumb > a > img\")\n",
    "    img[i].click()\n",
    "    time.sleep(2)\n",
    "    \n",
    "    title = driver.find_element(By.CSS_SELECTOR,\"#itemcase_basic > div > h1\")\n",
    "    try : \n",
    "        price = driver.find_element(By.CSS_SELECTOR,\"#itemcase_basic > div > div.price > span.price_innerwrap.price_innerwrap-coupon > strong\")\n",
    "    except : \n",
    "        price = driver.find_element(By.CSS_SELECTOR,\"#itemcase_basic > div > div.price > span.price_innerwrap > strong\")\n",
    "    \n",
    "    title_list.append(title.text)\n",
    "    price_list.append(price.text)\n",
    "    driver.back()\n",
    "    time.sleep(2)\n",
    "    \n",
    "driver.close()"
   ]
  },
  {
   "cell_type": "code",
   "execution_count": 8,
   "id": "3a9cfd0b",
   "metadata": {},
   "outputs": [
    {
     "data": {
      "text/plain": [
       "['10%+10%할인 최종가 6330원 ) 구우스 10켤례 레터링 기모양말 밴딩 남여공용 삭스',\n",
       " '(탑텐밸런스)(신세계의정부점)탑텐밸런스 23년 F/W 인기 남여 플리스 팬츠 2종 택 1 (MBE5PT1260MBE5...',\n",
       " '제주삼다수 2L 24병 /생수전문배송',\n",
       " '후루룩수학 1-3 전3권',\n",
       " '프리미엄 통편육 250g x 3팩 돼지머리고기 99.9%']"
      ]
     },
     "execution_count": 8,
     "metadata": {},
     "output_type": "execute_result"
    }
   ],
   "source": [
    "title_list"
   ]
  },
  {
   "cell_type": "code",
   "execution_count": 9,
   "id": "4a330ed8",
   "metadata": {},
   "outputs": [
    {
     "data": {
      "text/plain": [
       "['6,330원', '14,330원', '20,900원', '47,400원', '15,130원']"
      ]
     },
     "execution_count": 9,
     "metadata": {},
     "output_type": "execute_result"
    }
   ],
   "source": [
    "price_list"
   ]
  },
  {
   "cell_type": "markdown",
   "id": "75b4d9dd",
   "metadata": {},
   "source": [
    "# 크롤링 하는 프로세스\n",
    "- 1. 데이터 요청단계 ex) req.get(), driver.get()\n",
    "- 2. 데이터 준비단계 ex) req -> bs만들어주기 / driver -> 데이터 로딩(더보기,스크롤이동)\n",
    "- 3. 데이터 수집단계 ex) select, find_element + 검증 + 데이터 정제(텍스트)\n",
    "- 4. 데이터 활용단계 ex) DF, CSV, HTML, DB 저장\n",
    "* 중요한점 : 사람답게 코딩을 작성해라 -> time.sleep을 적절하게 사용\n",
    "* 반복문을 작성할 때는, 반드시 완벽한 하나의 코드사이클을 작성하고 반복문으로 묶어라"
   ]
  },
  {
   "cell_type": "code",
   "execution_count": null,
   "id": "6c29b4e3",
   "metadata": {},
   "outputs": [],
   "source": []
  }
 ],
 "metadata": {
  "kernelspec": {
   "display_name": "Python 3 (ipykernel)",
   "language": "python",
   "name": "python3"
  },
  "language_info": {
   "codemirror_mode": {
    "name": "ipython",
    "version": 3
   },
   "file_extension": ".py",
   "mimetype": "text/x-python",
   "name": "python",
   "nbconvert_exporter": "python",
   "pygments_lexer": "ipython3",
   "version": "3.11.5"
  }
 },
 "nbformat": 4,
 "nbformat_minor": 5
}
