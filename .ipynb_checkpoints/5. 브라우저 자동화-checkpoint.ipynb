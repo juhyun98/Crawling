{
 "cells": [
  {
   "cell_type": "markdown",
   "id": "ccab0207",
   "metadata": {},
   "source": [
    "# Selenium 라이브러리\n",
    " - 브라우저를 제어하는 라이브러리\n",
    " - 반드시 한번 설치가 필요"
   ]
  },
  {
   "cell_type": "code",
   "execution_count": 1,
   "id": "8453ff4f",
   "metadata": {},
   "outputs": [
    {
     "name": "stdout",
     "output_type": "stream",
     "text": [
      "Requirement already satisfied: selenium in c:\\users\\smhrd\\anaconda3\\lib\\site-packages (4.16.0)\n",
      "Requirement already satisfied: urllib3[socks]<3,>=1.26 in c:\\users\\smhrd\\anaconda3\\lib\\site-packages (from selenium) (1.26.16)\n",
      "Requirement already satisfied: trio~=0.17 in c:\\users\\smhrd\\anaconda3\\lib\\site-packages (from selenium) (0.23.2)\n",
      "Requirement already satisfied: trio-websocket~=0.9 in c:\\users\\smhrd\\anaconda3\\lib\\site-packages (from selenium) (0.11.1)\n",
      "Requirement already satisfied: certifi>=2021.10.8 in c:\\users\\smhrd\\anaconda3\\lib\\site-packages (from selenium) (2023.7.22)\n",
      "Requirement already satisfied: attrs>=20.1.0 in c:\\users\\smhrd\\anaconda3\\lib\\site-packages (from trio~=0.17->selenium) (22.1.0)\n",
      "Requirement already satisfied: sortedcontainers in c:\\users\\smhrd\\anaconda3\\lib\\site-packages (from trio~=0.17->selenium) (2.4.0)\n",
      "Requirement already satisfied: idna in c:\\users\\smhrd\\anaconda3\\lib\\site-packages (from trio~=0.17->selenium) (3.4)\n",
      "Requirement already satisfied: outcome in c:\\users\\smhrd\\anaconda3\\lib\\site-packages (from trio~=0.17->selenium) (1.3.0.post0)\n",
      "Requirement already satisfied: sniffio>=1.3.0 in c:\\users\\smhrd\\anaconda3\\lib\\site-packages (from trio~=0.17->selenium) (1.3.0)\n",
      "Requirement already satisfied: cffi>=1.14 in c:\\users\\smhrd\\anaconda3\\lib\\site-packages (from trio~=0.17->selenium) (1.15.1)\n",
      "Requirement already satisfied: wsproto>=0.14 in c:\\users\\smhrd\\anaconda3\\lib\\site-packages (from trio-websocket~=0.9->selenium) (1.2.0)\n",
      "Requirement already satisfied: PySocks!=1.5.7,<2.0,>=1.5.6 in c:\\users\\smhrd\\anaconda3\\lib\\site-packages (from urllib3[socks]<3,>=1.26->selenium) (1.7.1)\n",
      "Requirement already satisfied: pycparser in c:\\users\\smhrd\\anaconda3\\lib\\site-packages (from cffi>=1.14->trio~=0.17->selenium) (2.21)\n",
      "Requirement already satisfied: h11<1,>=0.9.0 in c:\\users\\smhrd\\anaconda3\\lib\\site-packages (from wsproto>=0.14->trio-websocket~=0.9->selenium) (0.14.0)\n"
     ]
    }
   ],
   "source": [
    "!pip install selenium"
   ]
  },
  {
   "cell_type": "code",
   "execution_count": 2,
   "id": "87100cef",
   "metadata": {},
   "outputs": [],
   "source": [
    "# 라이브러리 호출\n",
    "from selenium import webdriver as wb # 실제 브라우저 역할\n",
    "from selenium.webdriver.common.keys import Keys # 키보드 역할\n",
    "from selenium.webdriver.common.by import By # 선택자를 구분지어주는 역할"
   ]
  },
  {
   "cell_type": "code",
   "execution_count": 17,
   "id": "15d8b151",
   "metadata": {},
   "outputs": [],
   "source": [
    "# 1. 크롬브라우저 실행\n",
    "# - 구버전 코드에는 Chrome(\"크롬드라이버 경로\")\n",
    "# - 신버전은 크롬드라이버를 설치할 필요가 없다.\n",
    "driver = wb.Chrome()"
   ]
  },
  {
   "cell_type": "code",
   "execution_count": 4,
   "id": "f4168727",
   "metadata": {},
   "outputs": [],
   "source": [
    "# 2. 페이지 이동\n",
    "driver.get(\"http://www.naver.com\")"
   ]
  },
  {
   "cell_type": "code",
   "execution_count": 5,
   "id": "ab79ef48",
   "metadata": {},
   "outputs": [],
   "source": [
    "# 3. 검색창을 알아오기!\n",
    "# 브라우저에서 내가 원하는 요소를 찾을거야!\n",
    "search = driver.find_element(By.ID, \"query\")"
   ]
  },
  {
   "cell_type": "code",
   "execution_count": 6,
   "id": "d3c9675a",
   "metadata": {},
   "outputs": [],
   "source": [
    "# 4. 검색을 진행\n",
    "search.send_keys(\"손흥민\")"
   ]
  },
  {
   "cell_type": "code",
   "execution_count": 7,
   "id": "41332f9d",
   "metadata": {},
   "outputs": [],
   "source": [
    "# 5. 키보드의 엔터를 사용\n",
    "search.send_keys(Keys.ENTER)"
   ]
  },
  {
   "cell_type": "code",
   "execution_count": 8,
   "id": "17d6cb28",
   "metadata": {},
   "outputs": [],
   "source": [
    "# 6. 스크롤을 최하단으로 이동\n",
    "body = driver.find_element(By.TAG_NAME, \"body\")\n",
    "body.send_keys(Keys.END)"
   ]
  },
  {
   "cell_type": "code",
   "execution_count": 9,
   "id": "1820bca0",
   "metadata": {},
   "outputs": [],
   "source": [
    "# 7. 페이지 뒤로가기\n",
    "# 뒤로가기 버튼은 html태그가 아니다.\n",
    "driver.back()"
   ]
  },
  {
   "cell_type": "code",
   "execution_count": 10,
   "id": "246209de",
   "metadata": {},
   "outputs": [],
   "source": [
    "# 8. 검색창에 이강인\n",
    "# 페이지가 변하면 새로 요소를 찾아와야 한다.\n",
    "search = driver.find_element(By.ID, \"query\")\n",
    "search.send_keys(\"이강인\")"
   ]
  },
  {
   "cell_type": "code",
   "execution_count": 11,
   "id": "e51ae390",
   "metadata": {},
   "outputs": [],
   "source": [
    "# 9. 버튼을 클릭\n",
    "btn = driver.find_element(By.CSS_SELECTOR, \"#sform > fieldset > button\")\n",
    "btn.click()"
   ]
  },
  {
   "cell_type": "code",
   "execution_count": 14,
   "id": "d6ddb4e8",
   "metadata": {},
   "outputs": [],
   "source": [
    "# 10. 뉴스타이틀 수집\n",
    "title = driver.find_elements(By.CSS_SELECTOR, \"div.news_wrap.api_ani_send > div > div.news_contents > a.news_tit\")"
   ]
  },
  {
   "cell_type": "code",
   "execution_count": 15,
   "id": "68890e4a",
   "metadata": {},
   "outputs": [
    {
     "name": "stdout",
     "output_type": "stream",
     "text": [
      "이강인·김민재, 통계매체 선정 프랑스·독일 전반기 베스트 11\n",
      "이강인 그랜드 피날레\n",
      "‘2호 도움’ 이강인, 올해 마무리…한국 축구, 亞컵·올림픽 향해 뛴다\n",
      "이강인, '택배 크로스'로 2호 도움…혹평 잠재웠다\n"
     ]
    }
   ],
   "source": [
    "for i in title :\n",
    "    print(i.text)"
   ]
  },
  {
   "cell_type": "code",
   "execution_count": 18,
   "id": "13ffc747",
   "metadata": {},
   "outputs": [],
   "source": [
    "# 11. 창을 종료\n",
    "driver.close()"
   ]
  },
  {
   "cell_type": "code",
   "execution_count": null,
   "id": "3e108f50",
   "metadata": {},
   "outputs": [],
   "source": []
  },
  {
   "cell_type": "code",
   "execution_count": null,
   "id": "ad7dc0e0",
   "metadata": {},
   "outputs": [],
   "source": []
  }
 ],
 "metadata": {
  "kernelspec": {
   "display_name": "Python 3 (ipykernel)",
   "language": "python",
   "name": "python3"
  },
  "language_info": {
   "codemirror_mode": {
    "name": "ipython",
    "version": 3
   },
   "file_extension": ".py",
   "mimetype": "text/x-python",
   "name": "python",
   "nbconvert_exporter": "python",
   "pygments_lexer": "ipython3",
   "version": "3.11.5"
  }
 },
 "nbformat": 4,
 "nbformat_minor": 5
}
