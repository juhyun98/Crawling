{
 "cells": [
  {
   "cell_type": "code",
   "execution_count": 1,
   "id": "edb68abd",
   "metadata": {},
   "outputs": [],
   "source": [
    "from selenium import webdriver as wb\n",
    "from selenium.webdriver.common.by import By\n",
    "from selenium.webdriver.common.keys import Keys\n",
    "import time\n",
    "# 파일 시스템을 위한 라이브러리(폴더,파일을 삭제/생성 할때 사용, 경로를 알아올때)\n",
    "import os\n",
    "# 이미지 파일을 저장해주는 라이브러리 -> 이미지의 경로를 파일로 변환\n",
    "from urllib.request import urlretrieve"
   ]
  },
  {
   "cell_type": "code",
   "execution_count": 2,
   "id": "8b31e5ad",
   "metadata": {},
   "outputs": [],
   "source": [
    "# 폴더를 생성\n",
    "# 바탕화면에 이미지라는 폴더가 없으면, 바탕화면에 이미지 폴더를 생성해라!\n",
    "if not os.path.isdir(\"C:/Users/smhrd/Desktop/이미지\") :\n",
    "    os.mkdir(\"C:/Users/smhrd/Desktop/이미지\")"
   ]
  },
  {
   "cell_type": "code",
   "execution_count": 3,
   "id": "843bbdbd",
   "metadata": {},
   "outputs": [],
   "source": [
    "driver = wb.Chrome()\n",
    "driver.get(\"https://search.naver.com/search.naver?sm=tab_hty.top&where=image&query=%EC%86%90%ED%9D%A5%EB%AF%BC&oquery=%ED%8F%AC%EB%93%9C+%EB%9E%A9%ED%84%B0&tqi=ihWY4wqo1e8ssB3pLdhssssssAG-209005\")"
   ]
  },
  {
   "cell_type": "code",
   "execution_count": 10,
   "id": "f9553e90",
   "metadata": {},
   "outputs": [],
   "source": [
    "# 이미지 태그를 수집\n",
    "img = driver.find_elements(By.CSS_SELECTOR,\"#main_pack > section.sc_new.sp_nimage._fe_image_viewer_prepend_target > div.api_subject_bx._fe_image_tab_list_root.ani_fadein > div > div > div.image_tile._fe_image_tab_grid > div > div > div > div > img\")"
   ]
  },
  {
   "cell_type": "code",
   "execution_count": 7,
   "id": "44ce4658",
   "metadata": {},
   "outputs": [
    {
     "data": {
      "text/plain": [
       "'https://search.pstatic.net/common/?src=http%3A%2F%2Fimgnews.naver.net%2Fimage%2F468%2F2023%2F12%2F11%2F0001010623_003_20231211090207260.jpg&type=a340'"
      ]
     },
     "execution_count": 7,
     "metadata": {},
     "output_type": "execute_result"
    }
   ],
   "source": [
    "# 태그의 특정 속성을 수집 get_attribute(\"속성이름\")\n",
    "img[0].get_attribute(\"src\")"
   ]
  },
  {
   "cell_type": "code",
   "execution_count": 11,
   "id": "9fc5e0a2",
   "metadata": {},
   "outputs": [],
   "source": [
    "# 이미지 src만 저장\n",
    "src = []\n",
    "for i in range(len(img)) :\n",
    "    src.append(img[i].get_attribute(\"src\"))"
   ]
  },
  {
   "cell_type": "code",
   "execution_count": 12,
   "id": "184b33c3",
   "metadata": {},
   "outputs": [],
   "source": [
    "# src값을 파일로 변환\n",
    "for i in range(len(src)) :\n",
    "    urlretrieve(src[i],\"C:/Users/smhrd/Desktop/이미지/\"+str(i)+\".jpg\")"
   ]
  },
  {
   "cell_type": "code",
   "execution_count": null,
   "id": "226eeeeb",
   "metadata": {},
   "outputs": [],
   "source": []
  }
 ],
 "metadata": {
  "kernelspec": {
   "display_name": "Python 3 (ipykernel)",
   "language": "python",
   "name": "python3"
  },
  "language_info": {
   "codemirror_mode": {
    "name": "ipython",
    "version": 3
   },
   "file_extension": ".py",
   "mimetype": "text/x-python",
   "name": "python",
   "nbconvert_exporter": "python",
   "pygments_lexer": "ipython3",
   "version": "3.11.5"
  }
 },
 "nbformat": 4,
 "nbformat_minor": 5
}
